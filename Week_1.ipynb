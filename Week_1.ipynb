{
 "cells": [
  {
   "cell_type": "code",
   "execution_count": 1,
   "id": "9ee011bb",
   "metadata": {},
   "outputs": [
    {
     "name": "stdout",
     "output_type": "stream",
     "text": [
      "Hello world\n"
     ]
    }
   ],
   "source": [
    "print(\"Hello world\")\n",
    "\n"
   ]
  },
  {
   "cell_type": "code",
   "execution_count": 2,
   "id": "4bea2baa",
   "metadata": {},
   "outputs": [
    {
     "name": "stdout",
     "output_type": "stream",
     "text": [
      "[[1, 2], [2, 3]]\n",
      "12\n",
      "23\n"
     ]
    }
   ],
   "source": [
    "mat = [[1,2],[2,3]]\n",
    "print(mat)\n",
    "\n",
    "for i in range(2):\n",
    "    for j in range(2):\n",
    "        print(mat[i][j], end=\"\")\n",
    "    print()\n"
   ]
  },
  {
   "cell_type": "markdown",
   "id": "6a255596",
   "metadata": {},
   "source": [
    "#### row = int(input(\"Enter the number of rows\"))\n",
    "col = int(input(\"Enter the number of columns\"))\n",
    "mat = []\n",
    "for i in range(row):\n",
    "    a = []\n",
    "    for j in range(col):\n",
    "        k = int(input())\n",
    "        a.append(k)\n",
    "    mat.append(a)\n",
    "    \n",
    "for i in range(row):\n",
    "    for j in range(col):\n",
    "        print(format(mat[i][j], \"<3\"), end=\" \")\n",
    "    print()\n",
    "    "
   ]
  },
  {
   "cell_type": "code",
   "execution_count": 3,
   "id": "a3c6b83c",
   "metadata": {},
   "outputs": [
    {
     "name": "stdout",
     "output_type": "stream",
     "text": [
      "3 5 7 \n",
      "3 5 7 \n"
     ]
    }
   ],
   "source": [
    "# matrix addition\n",
    "\n",
    "mat1 = [[2,3,4],[1,2,3]]\n",
    "mat2 = [[1,2,3],[2,3,4]]\n",
    "row = 2\n",
    "col = 3\n",
    "sums = [[0,0,0],[0,0,0]]\n",
    "for i in range(row):\n",
    "    for j in range(col):\n",
    "        sums[i][j] = mat1[i][j] + mat2[i][j]\n",
    "        \n",
    "for i in range(row):\n",
    "    for j in range(col):\n",
    "        print(sums[i][j], end = \" \")\n",
    "    print()\n",
    "        \n"
   ]
  },
  {
   "cell_type": "code",
   "execution_count": 4,
   "id": "abceeb3e",
   "metadata": {},
   "outputs": [],
   "source": [
    "#subtraction"
   ]
  },
  {
   "cell_type": "code",
   "execution_count": 5,
   "id": "538f9b63",
   "metadata": {},
   "outputs": [
    {
     "name": "stdout",
     "output_type": "stream",
     "text": [
      "1   1   1   \n",
      "-1  -1  -1  \n"
     ]
    }
   ],
   "source": [
    "subs = [[0,0,0],[0,0,0]]\n",
    "for i in range(row):\n",
    "    for j in range(col):\n",
    "        subs[i][j] = mat1[i][j] - mat2[i][j]\n",
    "        \n",
    "for i in range(row):\n",
    "    for j in range(col):\n",
    "        print(format(subs[i][j],\"<3\"), end =\" \")\n",
    "    print()"
   ]
  },
  {
   "cell_type": "code",
   "execution_count": null,
   "id": "712b16a3",
   "metadata": {},
   "outputs": [],
   "source": [
    "#matrix multiplication"
   ]
  },
  {
   "cell_type": "code",
   "execution_count": 6,
   "id": "e815f4ed",
   "metadata": {},
   "outputs": [
    {
     "name": "stdout",
     "output_type": "stream",
     "text": [
      "Enter the number of row of matrix 12\n",
      "Enter the number of row of matrix 22\n",
      "Enter the number of column of matrix 1/row of matrix 22\n",
      "Enter the values of matrix 1\n",
      "1\n",
      "2\n",
      "3\n",
      "4\n",
      "Matrix 1 is \n",
      "1   2   \n",
      "3   4   \n",
      "Enter the values of matrix 2\n",
      "1\n",
      "2\n",
      "3\n",
      "4\n",
      "Matrix 2 is \n",
      "1   2   \n",
      "3   4   \n",
      "The result matrix is \n",
      "7  10 \n",
      "15 22 \n"
     ]
    }
   ],
   "source": [
    "p = int(input(\"Enter the number of row of matrix 1\"))\n",
    "q = int(input(\"Enter the number of row of matrix 2\"))\n",
    "n = int(input(\"Enter the number of column of matrix 1/row of matrix 2\"))\n",
    "print(\"Enter the values of matrix 1\")\n",
    "\n",
    "mat1 = [[int(input()) for i in range(n)] for j in range(p)]\n",
    "\n",
    "print(\"Matrix 1 is \")\n",
    "for i in range(p):\n",
    "    for j in range(n):\n",
    "        print(format(mat1[i][j],\"<3\"), end = \" \")\n",
    "    print()\n",
    "    \n",
    "print(\"Enter the values of matrix 2\")\n",
    "\n",
    "\n",
    "mat2 = [[int(input()) for i in range(q)] for j in range(n)]\n",
    "\n",
    "print(\"Matrix 2 is \")\n",
    "for i in range(n):\n",
    "    for j in range(q):\n",
    "        print(format(mat2[i][j],\"<3\"), end = \" \")\n",
    "    print()\n",
    "        \n",
    "result = [[0 for i in range(p)] for j in range(q)]\n",
    "\n",
    "for i in range(p):\n",
    "    for j in range(q):\n",
    "        for k in range(n):\n",
    "            result[i][j] = result[i][j] + mat1[i][k] * mat2[k][j]\n",
    "            \n",
    "print(\"The result matrix is \")\n",
    "            \n",
    "for i in range(p):\n",
    "    for j in range(q):\n",
    "        print(format(result[i][j], \"<3\"), end = \"\")\n",
    "    print()\n",
    "        \n"
   ]
  },
  {
   "cell_type": "code",
   "execution_count": null,
   "id": "1d0c1085",
   "metadata": {},
   "outputs": [],
   "source": [
    "#matrix transpose"
   ]
  },
  {
   "cell_type": "code",
   "execution_count": 7,
   "id": "911469da",
   "metadata": {},
   "outputs": [
    {
     "name": "stdout",
     "output_type": "stream",
     "text": [
      "Enter the number of rows2\n",
      "Enter the number of columns3\n",
      "1\n",
      "2\n",
      "3\n",
      "4\n",
      "5\n",
      "6\n",
      "Given matrix is :\n",
      "\n",
      "1 2 3 \n",
      "4 5 6 \n",
      "The transpose of the given matrix is :\n",
      "1 4 \n",
      "2 5 \n",
      "3 6 \n",
      "jjjjjjjjjjjjjjjjjj\n",
      "[1, 4]\n",
      "[2, 5]\n",
      "[3, 6]\n"
     ]
    }
   ],
   "source": [
    "p = int(input(\"Enter the number of rows\"))\n",
    "q = int(input(\"Enter the number of columns\"))\n",
    "mat = [[int(input()) for i in range(q)] for j in range(p)]\n",
    "result = [[0 for i in range(p)] for j in range(q)]\n",
    "\n",
    "print(\"Given matrix is :\\n\")\n",
    "for i in range(p):\n",
    "    for j in range(q):\n",
    "        print(mat[i][j], end=\" \")\n",
    "    print()\n",
    "for i in range(q):\n",
    "    for j in range(p):\n",
    "        result[i][j] = mat[j][i]\n",
    "print(\"The transpose of the given matrix is :\")       \n",
    "for i in range(q):\n",
    "    for j in range(p):\n",
    "        print(result[i][j], end=\" \")\n",
    "        \n",
    "    print()\n",
    "print(\"jjjjjjjjjjjjjjjjjj\")  \n",
    "for c in result:\n",
    "    print(c)"
   ]
  },
  {
   "cell_type": "code",
   "execution_count": null,
   "id": "19acf21d",
   "metadata": {},
   "outputs": [],
   "source": [
    "identity or square matrix"
   ]
  },
  {
   "cell_type": "code",
   "execution_count": 11,
   "id": "4f74bdc8",
   "metadata": {},
   "outputs": [
    {
     "name": "stdout",
     "output_type": "stream",
     "text": [
      "Enter the number of rows2\n",
      "Enter the number of columns2\n",
      "This is a square matrix\n",
      "Enter values of the matrix\n",
      "1\n",
      "0\n",
      "0\n",
      "1\n",
      "This is a identity matrix\n"
     ]
    }
   ],
   "source": [
    "row = int(input(\"Enter the number of rows\"))\n",
    "col = int(input(\"Enter the number of columns\"))\n",
    "if row == col:\n",
    "    print(\"This is a square matrix\")\n",
    "    print(\"Enter values of the matrix\")\n",
    "    mat = [[int(input()) for i in range(col)] for j in range(row)]\n",
    "    \n",
    "    identity = True\n",
    "    for i in range(row):\n",
    "        for j in range(col):\n",
    "            if i == j and mat[i][j] != 1:\n",
    "                identity = False\n",
    "                break\n",
    "            elif i!= j and mat[i][j] != 0:\n",
    "                identity = False\n",
    "                break\n",
    "    if identity:\n",
    "        print(\"This is a identity matrix\")\n",
    "    else:\n",
    "        print(\"This is not an identity matrix\")               \n",
    "else:\n",
    "    print(\"This is not a square matrix \")"
   ]
  },
  {
   "cell_type": "code",
   "execution_count": null,
   "id": "de332565",
   "metadata": {},
   "outputs": [],
   "source": [
    "#sparse matrix"
   ]
  },
  {
   "cell_type": "code",
   "execution_count": 13,
   "id": "feeb1bfe",
   "metadata": {},
   "outputs": [
    {
     "name": "stdout",
     "output_type": "stream",
     "text": [
      "This is not a sparse matrix\n"
     ]
    }
   ],
   "source": [
    "A = [[1,0,0],\n",
    "     [2,3,2],\n",
    "     [1,3,0],\n",
    "     [0,3,0]]\n",
    "row = len(A)\n",
    "col = len(A[0])\n",
    "count = 0\n",
    "for i in range(row):\n",
    "    for j in range(col):\n",
    "        if A[i][j] == 0:\n",
    "            count += 1\n",
    "if count > (row*col)//2:\n",
    "    print(\"This is a sparse matrix\")\n",
    "else:\n",
    "    print(\"This is not a sparse matrix\")"
   ]
  },
  {
   "cell_type": "code",
   "execution_count": 14,
   "id": "4be9d2a6",
   "metadata": {},
   "outputs": [],
   "source": [
    "#find the diagonals of the matrix"
   ]
  },
  {
   "cell_type": "code",
   "execution_count": 16,
   "id": "cb9b462e",
   "metadata": {},
   "outputs": [
    {
     "name": "stdout",
     "output_type": "stream",
     "text": [
      "[3, 3, 4]\n"
     ]
    }
   ],
   "source": [
    "B = [[1,2,3],\n",
    "    [2,3,4],\n",
    "    [4,5,6]]\n",
    "row = len(B)\n",
    "col = len(B[0])\n",
    "\n",
    "d1 = [None]*row\n",
    "d2 = [None]*row\n",
    "x = y = 0\n",
    "for i in range(row):\n",
    "    for j in range(row):\n",
    "        if i == j:\n",
    "            d1[x] = B[i][j]\n",
    "            x += 1\n",
    "        if i+j == col-1:\n",
    "            d2[y] = B[i][j]\n",
    "            y += 1\n",
    "            \n",
    "            \n",
    "print(d1)\n",
    "print(d2)\n",
    "    "
   ]
  },
  {
   "cell_type": "code",
   "execution_count": 20,
   "id": "7f2ac8f3",
   "metadata": {},
   "outputs": [
    {
     "name": "stdout",
     "output_type": "stream",
     "text": [
      "Enter the number of rows3\n",
      "Enter the number of columns3\n",
      "Enter the values of matrix\n",
      "1\n",
      "2\n",
      "3\n",
      "4\n",
      "5\n",
      "6\n",
      "7\n",
      "8\n",
      "9\n"
     ]
    },
    {
     "data": {
      "text/plain": [
       "0"
      ]
     },
     "execution_count": 20,
     "metadata": {},
     "output_type": "execute_result"
    }
   ],
   "source": [
    "row = int(input(\"Enter the number of rows\"))\n",
    "col = int(input(\"Enter the number of columns\"))\n",
    "print(\"Enter the values of matrix\")\n",
    "A = [[int(input()) for i in range(col)] for j in range(row)]\n",
    "\n",
    "\n",
    "def determinant(A):\n",
    "    row = len(A)\n",
    "    col = len(A[0])\n",
    "    if row == col:\n",
    "        if row == 1:\n",
    "            return A[0][0]\n",
    "        elif row == 2:\n",
    "            return A[0][0]*A[1][1] - A[0][1]*A[1][0]\n",
    "        else:\n",
    "            det = 0\n",
    "            for i in range(row):\n",
    "                sign = (-1) ** i\n",
    "                sub_matrix = [[A[j][k] for k in range(col) if k!= i] for j in range(1,row)]\n",
    "                sub_det = determinant(sub_matrix)\n",
    "                det += sign * sub_det * A[0][i]\n",
    "        return det\n",
    "    else:\n",
    "        print(\"The matrix is not a square matrix\")\n",
    "        \n",
    "determinant(A)"
   ]
  },
  {
   "cell_type": "code",
   "execution_count": 24,
   "id": "3441600a",
   "metadata": {},
   "outputs": [
    {
     "name": "stdout",
     "output_type": "stream",
     "text": [
      "Enter the number of rows3\n",
      "Enter the number of columns3\n",
      "Enter values\n",
      "1\n",
      "2\n",
      "3\n",
      "4\n",
      "5\n",
      "6\n",
      "7\n",
      "8\n",
      "9\n"
     ]
    },
    {
     "data": {
      "text/plain": [
       "0"
      ]
     },
     "execution_count": 24,
     "metadata": {},
     "output_type": "execute_result"
    }
   ],
   "source": [
    "row = int(input(\"Enter the number of rows\"))\n",
    "col = int(input(\"Enter the number of columns\"))\n",
    "\n",
    "print(\"Enter values\")\n",
    "A = [[int(input()) for i in range(col)] for j in range(row)]\n",
    "\n",
    "def deter(A):\n",
    "    row = len(A)\n",
    "    col = len(A[0])\n",
    "    if row == col:\n",
    "        if row == 1:\n",
    "            return A[0][0]\n",
    "        elif row == 2:\n",
    "            return A[0][0]*A[1][1] - A[0][1]*A[1][0]\n",
    "        else:\n",
    "            det = 0\n",
    "            for i in range(row):\n",
    "                sign = (-1) ** i\n",
    "                sub_matrix = [[A[j][k] for k in range(col) if k!= i] for j in range(1,row)]\n",
    "                sub_det = deter(sub_matrix)\n",
    "                det += sign * sub_det * A[0][i]\n",
    "        return det\n",
    "    else:\n",
    "        print(\"it is not a square matrix\")\n",
    "    \n",
    "deter(A)\n",
    "                \n"
   ]
  }
 ],
 "metadata": {
  "kernelspec": {
   "display_name": "test",
   "language": "python",
   "name": "test"
  },
  "language_info": {
   "codemirror_mode": {
    "name": "ipython",
    "version": 3
   },
   "file_extension": ".py",
   "mimetype": "text/x-python",
   "name": "python",
   "nbconvert_exporter": "python",
   "pygments_lexer": "ipython3",
   "version": "3.11.3"
  }
 },
 "nbformat": 4,
 "nbformat_minor": 5
}
