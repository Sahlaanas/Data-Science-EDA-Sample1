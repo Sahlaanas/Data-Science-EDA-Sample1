{
 "cells": [
  {
   "cell_type": "code",
   "execution_count": 3,
   "id": "58d3bb66",
   "metadata": {},
   "outputs": [
    {
     "name": "stdout",
     "output_type": "stream",
     "text": [
      "3.0\n"
     ]
    }
   ],
   "source": [
    "li = [1,2,3,4,5]\n",
    "mean = sum(li)/len(li)\n",
    "print(mean)"
   ]
  },
  {
   "cell_type": "code",
   "execution_count": 4,
   "id": "eaa36bcc",
   "metadata": {},
   "outputs": [],
   "source": [
    "#median"
   ]
  },
  {
   "cell_type": "code",
   "execution_count": 10,
   "id": "cf341021",
   "metadata": {},
   "outputs": [
    {
     "data": {
      "text/plain": [
       "3.5"
      ]
     },
     "execution_count": 10,
     "metadata": {},
     "output_type": "execute_result"
    }
   ],
   "source": [
    "def med(li):\n",
    "    n = len(li)\n",
    "    median = 0\n",
    "    if n % 2 != 0:\n",
    "        median = li[(n+1)//2]\n",
    "    else:\n",
    "        median = (li[(n//2)-1] + li[(n//2)])/2\n",
    "    return median\n",
    "\n",
    "lis = [1,2,3,4,5,6]\n",
    "med(lis)"
   ]
  },
  {
   "cell_type": "code",
   "execution_count": 11,
   "id": "89f2ea0d",
   "metadata": {},
   "outputs": [],
   "source": [
    "#mode"
   ]
  },
  {
   "cell_type": "code",
   "execution_count": 14,
   "id": "fb279011",
   "metadata": {},
   "outputs": [
    {
     "data": {
      "text/plain": [
       "[3]"
      ]
     },
     "execution_count": 14,
     "metadata": {},
     "output_type": "execute_result"
    }
   ],
   "source": [
    "def mode(li):\n",
    "    count = {}\n",
    "    for num in li:\n",
    "        if num in count:\n",
    "            count[num] += 1\n",
    "        else:\n",
    "            count[num] = 1\n",
    "    mod = [num for num,ctr in count.items() if max(count.values() )== ctr]\n",
    "    return mod\n",
    "li = [1,2,3,4,3,3,3,2,2]\n",
    "mode(li)"
   ]
  },
  {
   "cell_type": "code",
   "execution_count": 15,
   "id": "3d21ad6a",
   "metadata": {},
   "outputs": [],
   "source": [
    "#variance"
   ]
  },
  {
   "cell_type": "code",
   "execution_count": 16,
   "id": "30fc7cc4",
   "metadata": {},
   "outputs": [
    {
     "data": {
      "text/plain": [
       "2.0"
      ]
     },
     "execution_count": 16,
     "metadata": {},
     "output_type": "execute_result"
    }
   ],
   "source": [
    "def vari(li):\n",
    "    mean = sum(li)/len(li)\n",
    "    sums = sum(((li[i]-mean)**2) for i in range(len(li)))\n",
    "    var = sums/(len(li))\n",
    "    return var\n",
    "\n",
    "li = [1,2,3,4,5]\n",
    "vari(li)"
   ]
  },
  {
   "cell_type": "code",
   "execution_count": 17,
   "id": "8730f122",
   "metadata": {},
   "outputs": [],
   "source": [
    "#COVARIANCE"
   ]
  },
  {
   "cell_type": "code",
   "execution_count": 32,
   "id": "75053712",
   "metadata": {},
   "outputs": [
    {
     "data": {
      "text/plain": [
       "4.59765625"
      ]
     },
     "execution_count": 32,
     "metadata": {},
     "output_type": "execute_result"
    }
   ],
   "source": [
    "def cov(l1,l2):\n",
    "    n = len(l1)\n",
    "    mean1 = sum(l1)/len(l1)\n",
    "    mean2 = sum(l2)/len(l2)\n",
    "    sums = sum((l1[i]-mean1)*(l2[i]-mean2) for i in range(n))\n",
    "    cova = sums/n-1\n",
    "    return cova\n",
    "li = [1,2,3,4,5,6]\n",
    "lis = [1.5,2.25,3.375,5.0625,7.59375,11.390625]\n",
    "cov(li,lis)\n",
    "    "
   ]
  },
  {
   "cell_type": "code",
   "execution_count": 22,
   "id": "1aab4015",
   "metadata": {},
   "outputs": [],
   "source": [
    "#correlation"
   ]
  },
  {
   "cell_type": "code",
   "execution_count": 33,
   "id": "0166b93b",
   "metadata": {},
   "outputs": [
    {
     "data": {
      "text/plain": [
       "0.9610010892022472"
      ]
     },
     "execution_count": 33,
     "metadata": {},
     "output_type": "execute_result"
    }
   ],
   "source": [
    "import math\n",
    "def cori(l1,l2):\n",
    "    n = len(l1)\n",
    "    mean1 = sum(l1)/len(l1)\n",
    "    mean2 = sum(l2)/len(l2)\n",
    "    sums = sum((l1[i]-mean1)*(l2[i]-mean2) for i in range(n))\n",
    "    sqroot = math.sqrt(sum(((l1[i]-mean1)**2) for i in range(n))* (sum(((l2[i]-mean2)**2) for i in range(n))))\n",
    "    cors = sums/sqroot\n",
    "    return cors\n",
    "\n",
    "hour = [1,2,3,4,5,6]\n",
    "w_loss=[1.5,2.25,3.375,5.0625,7.59375,11.390625]  \n",
    "cori(hour, w_loss)"
   ]
  },
  {
   "cell_type": "code",
   "execution_count": null,
   "id": "db6bcfce",
   "metadata": {},
   "outputs": [],
   "source": []
  }
 ],
 "metadata": {
  "kernelspec": {
   "display_name": "test",
   "language": "python",
   "name": "test"
  },
  "language_info": {
   "codemirror_mode": {
    "name": "ipython",
    "version": 3
   },
   "file_extension": ".py",
   "mimetype": "text/x-python",
   "name": "python",
   "nbconvert_exporter": "python",
   "pygments_lexer": "ipython3",
   "version": "3.11.3"
  }
 },
 "nbformat": 4,
 "nbformat_minor": 5
}
